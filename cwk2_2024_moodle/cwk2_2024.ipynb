{
 "cells": [
  {
   "cell_type": "markdown",
   "id": "d4ffa784-95b5-47c1-89c7-2e4b545c3d39",
   "metadata": {},
   "source": [
    "# EEEE3129: Applications of AI in Electrical and Electronic Engineering\n",
    "## Coursework 2: UK Domestic Load Forecasting\n",
    "\n",
    "## Key Details:\n",
    "*This is worth 25% of the module.  Since this is a 10-credit module, you should therefore expect to spend around **25 hours** of time completing this coursework.*\n",
    "\n",
    "Approximate weightings for each question are given in the provisional rubric, which is available on Moodle.  These may change slightly but you will be notified if that is the case.  Note that there are also marks for code quality and uploading the appropriate documents alongside this workbook as indicated in the provisional rubric."
   ]
  },
  {
   "cell_type": "markdown",
   "id": "a6151ac9-be34-4f6e-867e-f7d7e66269fd",
   "metadata": {},
   "source": [
    "# CWK Submission:\n",
    "0. **CWK due - 15.00 21st November (Thursday), 2024**\n",
    "1. Your submission should be a **.zip** file, containing \n",
    "   a) This notebook in the format of **.ipynb** \n",
    "   b) The exported **.html** file as the report. To export the .html file, you should use the following menu command in Jupyter Lab: File -> Save and Export Notebook As ... -> HTML, same as CWK1.\n",
    "   c) You can include the .json dataset file in the .zip file, but it will not be used\n",
    "   d) Any other Jupyter notebooks or .py files will not be marked so *ALL YOUR CODE SHOULD RUN INSIDE THIS WORKBOOK*.\n",
    "3. If you only submit the .html file without the .ipynb file, your code cannot be executed and hence not possible to reproduce and evaluate. Thus the marking will be based on your .html file for relavent contents, but a mandatory additional 50% of overall mark penalty will apply.\n",
    "4. If you only submit the .ipynb file without the .html file, you are missing the report and only containing source code file. Thus the marking will be based on your .ipynb file, but a mandatory additonal 20% overall mark penalty will apply.\n",
    "5. All submission should be made via Moodle, no email submissions are accepted.\n",
    "6. Late penalties will apply for any late submission, in accordance to the University policy. If you need to apply for an EC, please refer to the EC instructions on the top of Moodle page.\n",
    "7. **DO NOT copy code from other people. DO NOT share your code with other people. Do not share your code with other people (do not share your screen either).** Whether you let someone else copy your code or you copy theirs you could still fail. It is fine and encouraged to help people, but you should explain concepts and not share exact code."
   ]
  },
  {
   "cell_type": "markdown",
   "id": "bb93068b-c16c-416f-a17a-f3a110af17d8",
   "metadata": {},
   "source": [
    "# Overview \n",
    "1. The general aim of this coursework is to make the day-ahead load forecasting based on the UK historical dataset. For day-ahead forecasting, you will need to rely on load profile from one day to predict the load profile for the following day. An accurate load profile will help improve the grid operations, especially the mitigating the challenge of intermittent renewable energy generations (e.g., wind and solar energy), to suppport economical dispatching/operation of energy storages (e.g., batteries and Electric Vehicles), and to apply smarter energy management strategies for cost saving and carbon reductions.\n",
    "\n",
    "2. To do this, you will need:\n",
    "\n",
    "   a) to prepare the dataset\n",
    "   \n",
    "   b) to train a proper model and tuning the parameters\n",
    "   \n",
    "   c) to verify and report the result\n",
    "   \n",
    "4. The dataset you will be using is the UK historical load dataset in 2023, stored in 'UKLoad2023.json'. This contains the original data collected during 2023. For each data record, it contains 8 fields:\n",
    "   \n",
    "   a) \"dataset\": name of this dataset\n",
    "   \n",
    "   b) \"documentID\": the unique id of this data record\n",
    "   \n",
    "   c) \"documentRevisionNumber\": if the data is revised\n",
    "   \n",
    "   d) \"publishTime\": the time this data record is published, in Coordinated Universal Time (UTC)\n",
    "   \n",
    "   e) \"startTime\": the start time of this data record, in Coordinated Universal Time (UTC)\n",
    "   \n",
    "   f) \"settlementDate\": the date of this data record\n",
    "   \n",
    "   g) \"settlementPeriod\": the index of this settlement period, note that in the UK, the 24 hours are divided into 48 settlement periods in total, each settlement is with 30 mins duration.\n",
    "   \n",
    "   h) \"quantity\": the measured load power, with the unit of MegaWatt (MW)\n",
    "\n"
   ]
  },
  {
   "cell_type": "markdown",
   "id": "f75c81cd-c6aa-4d4f-afe1-be34d477ba4e",
   "metadata": {},
   "source": [
    "## Part 1: Data Processing\n",
    "For this part you will be completing the code to processes the raw data into an appropriate format. You will be told what parts you need to write and blank spaces will be provided in the code below denoted by commnents (e.g. \"Write your code for Task 1.1 here\").  You may need to import any library functions you will use. For questions that have a text based answer you should write those in the space below the question (e.g. replace '[Write your answer here]')"
   ]
  },
  {
   "cell_type": "markdown",
   "id": "38cfe02e-3e96-4d4d-9375-36c9a076cd98",
   "metadata": {},
   "source": [
    "**Task 1.1** Write the set-up Code for the whole notebook. Write necessary codes including module import, self-defined supporting functions and general configurations for the notebook.\n",
    "\n",
    "**Task 1.2** Write code to validate the integrity of the dataset by checking for duplicate data and applying appropriate solutions.\n",
    "\n",
    "**Task 1.3** Write code to validate the integrity of the dataset by checking missing values (NaNs) and applying appropriate solutions.\n",
    "\n",
    "**Task 1.4** For the missing values (NaNs), please write below the available solutions, and the justification for your applied solution. Write your answer below.\n",
    "\n",
    "*[write your answer here]*\n",
    "\n",
    "\n",
    "**Task 1.5** Write code to prepare the following two dataset: the feature dataset with the name of \"feature_dataset\", which should be a 2-dimensional numpy ndarray format, each row is a different day, and each row contains 48 values from the field \"quantity\" in that day; the label dataset with the name of \"label_dataset\", which is with a similar format of the \"feature_dataset\", but the date for each row should be one day later. For example, if row 3 in \"feature_dataset\" is the data for 2023-8-20, then row 3 in \"label_dataset\" should be the data for 2023-8-21. This will prepare the \"feature_dataset\" and \"label_dataset\" ready for the day-ahead model training and validation purpose.\n",
    "\n",
    "**Task 1.6** Write code to visualize the day-ahead forecasting problem, by plotting the day-ahead data from  \"feature_dataset\" and the corresponding output data from \"label_dataset\". \n",
    "\n",
    "**Task 1.7** Observe the data from  \"feature_dataset\" and \"label_dataset\", and analyse the statistics such as the mean, shape of the dataset, number of samples etc, and discuss how these parameters will influence the day-ahead forecasting problem below. \n",
    "\n",
    "*[write your answer here]*\n",
    "\n",
    "\n"
   ]
  },
  {
   "cell_type": "code",
   "execution_count": 1,
   "id": "e8d8b163-f72d-4d42-8a25-03a0270357cb",
   "metadata": {},
   "outputs": [],
   "source": [
    "# DO NOT CHANGE THIS PART\n",
    "\n",
    "import pandas as pd # pandas module required for dataset manipulation\n",
    "import numpy as np # numpy module required for numerical calculation, signal processing and training.\n",
    "from sklearn.linear_model import LinearRegression # the model LinearRegression from sklearn.linear_model is required for Part 2 \n",
    "from sklearn.model_selection import train_test_split # the function train_test_split is required from sklearn.model_selection for training and testing dataset preparation.\n",
    "\n",
    "###################################################\n",
    "## Write your code for Task 1.1 here. \n",
    "###################################################\n",
    "## Write the set-up Code for the whole notebook. Write necessary codes including module import, self-defined supporting functions and general configurations for the notebook.\n",
    "\n",
    "\n"
   ]
  },
  {
   "cell_type": "code",
   "execution_count": 2,
   "id": "7a5301cf-ff3d-43b3-95b7-dfe3994ed4ce",
   "metadata": {},
   "outputs": [],
   "source": [
    "# these two functions are mandatory, and you should NOT change it. Modifying these two functions will lead to 0 marks for any assessment calling these two functions.\n",
    "def performance_indicator_relative(mse_train, mse_test, mse_validation):\n",
    "    return abs(mse_validation - mse_train) / abs(mse_train) + abs(mse_validation - mse_test) / abs(mse_test)\n",
    "\n",
    "def performance_indicator_rmse(mse_validation, Y_labels):\n",
    "    return mse_validation/(np.mean(Y_labels)**2)"
   ]
  },
  {
   "cell_type": "markdown",
   "id": "3848f83e-8ef4-4081-8ec6-fe02fdb00dce",
   "metadata": {},
   "source": []
  },
  {
   "cell_type": "code",
   "execution_count": 3,
   "id": "000f53da-3dfb-43c0-ada0-cf4a5959bf70",
   "metadata": {},
   "outputs": [],
   "source": [
    "## Code for Part 1\n",
    "\n",
    "# Load the training dataset\n",
    "df = pd.read_json('UKLoad2023.json')\n",
    "\n",
    "###################################################\n",
    "## Write your code for Task 1.2 here. \n",
    "###################################################\n",
    "## Write code to validate the integrity of the dataset by checking for duplicate data and applying appropriate solutions.\n",
    "\n",
    "#\n",
    "\n",
    "###################################################\n",
    "## Write your code for Task 1.3 here. \n",
    "###################################################\n",
    "## Write code to validate the integrity of the dataset by checking missing values (NaNs) and applying appropriate solutions.\n",
    "\n",
    "#\n",
    "\n",
    "###################################################\n",
    "## Write your code for Task 1.5 here. \n",
    "###################################################\n",
    "# Write code to prepare the following two dataset: the feature dataset with the name of \"feature_dataset\", which should be \n",
    "# a 2-dimensional numpy ndarray format, each row is a different day, and each row contains 48 values from the field \"quantity\" \n",
    "# in that day; the label dataset with the name of \"label_dataset\", which is with a similar format of the \"feature_dataset\", \n",
    "# but the date for each row should be one day later. For example, if row 3 in \"feature_dataset\" is the data for 2023-8-20, \n",
    "# then row 3 in \"label_dataset\" should be the data for 2023-8-21. This will prepare the \"feature_dataset\" and \"label_dataset\"\n",
    "# ready for the day-ahead model training and validation purpose.\n",
    "\n",
    "# dataset initialization - you might need to rewrite/remove this part if necessary\n",
    "feature_dataset = np.ones((10,10)) # - you might need to rewrite/remove this part if necessary\n",
    "label_dataset   = np.ones((10,10)) # - you might need to rewrite/remove this part if necessary\n",
    "\n",
    "#\n",
    "\n",
    "###################################################\n",
    "## Write your code for Task 1.6 here. \n",
    "###################################################\n",
    "# Write code to visualize the day-ahead forecasting problem, by plotting the day-ahead data from  \"feature_dataset\" and the corresponding output data from \"label_dataset\".\n",
    "\n",
    "#\n",
    "\n",
    "\n"
   ]
  },
  {
   "cell_type": "markdown",
   "id": "61dcc38b-122f-4db8-9f0c-7a99229aaf6f",
   "metadata": {},
   "source": [
    "## Part 2: Model Training\n",
    "For this part you will be completing the code to fit the model. You will be told what parts you need to write and blank spaces will be provided in the code below denoted by commnents (e.g. \"Write your code for Task 1.1 here\").  You may need to import any library functions you will use. For questions that have a text based answer you should write those in the space below the question (e.g. replace '[Write your answer here]')"
   ]
  },
  {
   "cell_type": "markdown",
   "id": "0b28ee02-078d-4b9a-8468-d945577f143a",
   "metadata": {},
   "source": [
    "**Task 2.1** Write code to calculate the Mean Squared Error (MSE) performance for both the training part and the testing part, with the name of mse_train and mse_test, correspondingly. You will need to follow this naming convention for Part 3.\n",
    "\n",
    "**Task 2.2** Write code to visualize the model fitting performance. You should plot the first row of Y_train and Y_train_output, first row of Y_test_output and Y_test.\n",
    "\n",
    "**Task 2.3** Compare the values of mse_train and mse_test, which is larger? Is this expected, and why? Write your answer below.\n",
    "\n",
    "*[write your answer here]*\n",
    "\n",
    "Example Answer: By default, it should be mse_train < mse_test, indicating the overfitting. Explains can focus on dataset size, or models. \n",
    "\n",
    "\n",
    "**Task 2.4** Rerun the code, report your best performance below. Based on your observation, make at least one suggestion on how to improve the code. Write your answer below.\n",
    "\n",
    "*[write your answer here]*\n",
    "\n",
    "Example Answer: Observe the randomness of the code - random seed can be fixed for reproductivity. Better splitting the dataset. \n"
   ]
  },
  {
   "cell_type": "code",
   "execution_count": 4,
   "id": "cb7d3b68-7acb-4837-bcf7-a1e3e184d762",
   "metadata": {},
   "outputs": [
    {
     "name": "stdout",
     "output_type": "stream",
     "text": [
      "---------------------------------------------------------------------------\n",
      "MSE Performance for Part 2:\n",
      "Linear Regression MSE Train: 1.0\n",
      "Linear Regression MSE Test: 1.0\n",
      "---------------------------------------------------------------------------\n"
     ]
    }
   ],
   "source": [
    "# Example code for dataset splitting, training, and testing. You may need to rewrite/reuse this routine for this or later parts.\n",
    "# you should have this part working for the first run, to check your variables are properly named in Part 1.\n",
    "\n",
    "# Training and Testing dataset preparation. Splitting ratio between training and testing is set as 50% vs 50% as an example.\n",
    "X_train, X_test, Y_train, Y_test = train_test_split(feature_dataset, label_dataset, test_size=0.5)\n",
    "\n",
    "# Configuring the models to fit/train. \n",
    "cwk_model_part2 = LinearRegression()\n",
    "\n",
    "# Fitting the models with the training data.\n",
    "cwk_model_part2.fit(X_train, Y_train)\n",
    "\n",
    "# Making predictions with the fitted model\n",
    "Y_train_output = cwk_model_part2.predict(X_train)\n",
    "\n",
    "# Making predictions with the fitted model\n",
    "Y_test_output= cwk_model_part2.predict(X_test)\n",
    "\n",
    "###################################################\n",
    "## Write your code for Task 2.1 here. \n",
    "###################################################\n",
    "# Write code to calculate the Mean Squared Error (MSE) performance for both the training part and the testing part, with the name of mse_train and mse_test, correspondingly. You will need to follow this naming convention for Part 3.\n",
    "\n",
    "# value initialization - you might need to rewrite/remove this part if necessary\n",
    "mse_train = 1.0 # - you might need to rewrite/remove this part if necessary\n",
    "mse_test = 1.0 # - you might need to rewrite/remove this part if necessary\n",
    "\n",
    "#\n",
    "\n",
    "\n",
    "###################################################\n",
    "# the following code should run with no problem after your implementation of Task 2.1\n",
    "print(\"---------------------------------------------------------------------------\")\n",
    "print(\"MSE Performance for Part 2:\")\n",
    "print(f\"Linear Regression MSE Train: {mse_train}\")\n",
    "print(f\"Linear Regression MSE Test: {mse_test}\")\n",
    "print(\"---------------------------------------------------------------------------\")\n",
    "\n",
    "###################################################\n",
    "## Write your code for Task 2.2 here. \n",
    "###################################################\n",
    "# Write code to visualize the model fitting performance. You should plot the first row of Y_train and Y_train_output, first row of Y_test_output and Y_test.\n",
    "\n",
    "#\n",
    "\n",
    "\n"
   ]
  },
  {
   "cell_type": "markdown",
   "id": "253d1507-6aa3-4345-9b91-1e8a6c91d238",
   "metadata": {},
   "source": [
    "## Part 3: Model Explore\n",
    "\n",
    "In this part, the expectation is:\n",
    "a) to choose your own model\n",
    "b) to prepare the data for the model training\n",
    "c) to configure the model and to train the model \n",
    "d) to report the performance\n",
    "\n",
    "Note that:\n",
    "a) you can try as many models as you like, but you can only choose one as the final model to report. The final performance will be evaluated based on that model alone. \n",
    "b) if multiple models are left in this part without a clear indication of the final model selection, the LAST model will be used for marking purpose.\n",
    "c) your model will be evaluated following the convention of machine learning projects. An unknown dataset to you will be used to evaluate your model performance. Please don't ask for the dataset as it is kept away from you intentionally.\n",
    "d) your model should be able to load the example test dataset. It is mandatory to ensure your code is with the correct structure for the unknown dataset test, but DO NOT rely on its performance because the example test dataset is subset of your training dataset and NOT the unknown dataset for marking. \n",
    "\n",
    "For this part you will be completing the code to evaluate the fitted model. You will be told what parts you need to write and blank spaces will be provided in the code below denoted by commnents (e.g. \"Write your code for Task 1.1 here\").  You may need to import any library functions you will use. For questions that have a text based answer you should write those in the space below the question (e.g. replace '[Write your answer here]')"
   ]
  },
  {
   "cell_type": "markdown",
   "id": "cfcecfb3-243d-43b6-b548-d6844513cfc1",
   "metadata": {},
   "source": [
    "**Task 3.1** Write your code to implement a different model (any model except LinearRegression model) and evaluate its performance. You should rewrite part of the following code.\n",
    "\n",
    "**Task 3.2** Justify your choice for the implemented model. Write your answer below.\n",
    "\n",
    "*[write your answer here]*\n",
    "\n",
    "Example Answers: Reasonable regression model selections are ok, but expecting discussions. \n",
    "\n",
    "**Task 3.3** Compare and discuss the performance of your implemented models. Write your answer below.\n",
    "\n",
    "*[write your answer here]*\n",
    "\n",
    "Example Answers: Quantified evidence is expected to make the comparison; model/hyper parameters are expected to be used for the discussion. \n",
    "\n",
    "**Task 3.4** What is overfitting? How to mitigate the overfitting in your implemented code? Write your answer below.\n",
    "\n",
    "*[write your answer here]*\n",
    "\n",
    "Example Answers: 1st class answers should also include code implementations, e.g., k-fold."
   ]
  },
  {
   "cell_type": "code",
   "execution_count": 5,
   "id": "478fffb2-b97a-4d16-a13a-a9f4e0ffaf6a",
   "metadata": {},
   "outputs": [],
   "source": [
    "###################################################\n",
    "## Write your code for Task 3.1 here. \n",
    "###################################################\n",
    "# Write your code to implement a different model (any model except LinearRegression model) and evaluate its performance. You should rewrite part of the following code.\n",
    "# They are provided to give you hints about the model names to be expected in Part 4.\n",
    "# The following code should be rewrite completely. \n",
    "\n",
    "X_train, X_test, Y_train, Y_test = train_test_split(feature_dataset, label_dataset, test_size=0.2)\n",
    "\n",
    "# Configuring the models to fit/train. \n",
    "cwk_model_part3 = LinearRegression()\n",
    "\n",
    "# Fitting the models with the training data.\n",
    "cwk_model_part3.fit(X_train, Y_train)\n",
    "\n",
    "# Making predictions with the fitted model\n",
    "Y_train_output = cwk_model_part3.predict(X_train)\n",
    "\n",
    "# Making predictions with the fitted model\n",
    "Y_test_output= cwk_model_part3.predict(X_test)\n",
    "\n",
    "# \n"
   ]
  },
  {
   "cell_type": "markdown",
   "id": "d0e764c0-bfbc-4df4-ac80-f86c31e301b6",
   "metadata": {},
   "source": [
    "## Part 4: Model Evaluation\n",
    "For this part you will be completing the code to evaluate the fitted model. You will be told what parts you need to write and blank spaces will be provided in the code below denoted by commnents (e.g. \"Write your code for Task 1.1 here\").  You may need to import any library functions you will use. For questions that have a text based answer you should write those in the space below the question (e.g. replace '[Write your answer here]')"
   ]
  },
  {
   "cell_type": "markdown",
   "id": "c48aa5ef-90a0-496d-86c8-4d9cc4a64db5",
   "metadata": {},
   "source": [
    "**Task 4.1** Write code to use the data from \"UKLoad2023_test.json\" to evaluate your fitted model from Part 2. Note that the data provided in \"UKLoad2023_test.json\" is a dummy dataset, and during the marking process, another dataset with the same name and similar format will be use. The dataset for marking is NOT available to you, so please don't make requests to this dataset, but you should use the provided  \"UKLoad2023_test.json\" to check if your code can run.\n",
    "\n",
    "**Task 4.2** Given the overall aim is to make day-ahead load forecasting, please suggest an approach (other than the trial with different models) to better achieve this aim. Write your answer below.\n",
    "\n",
    "*[write your answer here]*\n",
    "\n",
    "Example Answers: The discussion on additional features or better cooking of the dataset/features, e.g., day of the week; seasonal changes; quality of the dataset.\n",
    "\n",
    "\n",
    "**Task 4.3** Performance evaluation via overall_performance. You must make sure the following lines can run, or a 0 mark will be made for this task. \n",
    "overall_performance = performance_indicator_relative(mse_train, mse_test, mse_validation)\n",
    "print('overall_performance', overall_performance)\n",
    "\n",
    "**Task 4.4** Performance evaluation via rmse_performance. You must make sure the following lines can run, or a 0 mark will be made for this task. \n",
    "rmse_performance = performance_indicator_rmse(mse_validation, label_dataset_validation)\n",
    "print('rmse_performance', rmse_performance)\n",
    "\n"
   ]
  },
  {
   "cell_type": "code",
   "execution_count": 6,
   "id": "e54a859d-61a1-409e-9bd9-f11bc7dd8b6d",
   "metadata": {},
   "outputs": [],
   "source": [
    "# To load the evaluation dataset\n",
    "df_evaluation = pd.read_json('UKLoad2023_test.json')\n",
    "\n",
    "\n",
    "###################################################\n",
    "## Write your code for Task 4.1 here. \n",
    "###################################################\n",
    "\n",
    "# initialize the mse_validation - you might need to rewrite/remove this part if necessary\n",
    "mse_validation = 1.0 # - you might need to rewrite/remove this part if necessary\n",
    "\n",
    "# dataset initialization - you might need to rewrite/remove this part if necessary\n",
    "feature_dataset_validation = np.ones((10,10)) # - you might need to rewrite/remove this part if necessary\n",
    "label_dataset_validation   = np.ones((10,10)) # - you might need to rewrite/remove this part if necessary\n",
    "\n"
   ]
  },
  {
   "cell_type": "code",
   "execution_count": 7,
   "id": "b8aa911a-23e8-414b-938b-d799d6fcea28",
   "metadata": {},
   "outputs": [
    {
     "name": "stdout",
     "output_type": "stream",
     "text": [
      "overall_performance 0.0\n",
      "rmse_performance 1.0\n"
     ]
    }
   ],
   "source": [
    "#################################################################################################################\n",
    "## Performance Evaluation Part\n",
    "# Please leave this part un-touched. \n",
    "# They are provided for you to test if your code can be evaluated - the performance reported below is for\n",
    "# your reference only and not the ones in marking. The dataset for marking is NOT available to you so don't ask for it.\n",
    "overall_performance = performance_indicator_relative(mse_train, mse_test, mse_validation)\n",
    "print('overall_performance', overall_performance)\n",
    "\n",
    "rmse_performance = performance_indicator_rmse(mse_validation, label_dataset_validation)\n",
    "print('rmse_performance', rmse_performance)\n",
    "#################################################################################################################"
   ]
  }
 ],
 "metadata": {
  "kernelspec": {
   "display_name": "Python 3 (ipykernel)",
   "language": "python",
   "name": "python3"
  },
  "language_info": {
   "codemirror_mode": {
    "name": "ipython",
    "version": 3
   },
   "file_extension": ".py",
   "mimetype": "text/x-python",
   "name": "python",
   "nbconvert_exporter": "python",
   "pygments_lexer": "ipython3",
   "version": "3.12.3"
  }
 },
 "nbformat": 4,
 "nbformat_minor": 5
}
